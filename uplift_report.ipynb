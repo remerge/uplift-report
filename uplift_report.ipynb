{
  "nbformat": 4,
  "nbformat_minor": 0,
  "metadata": {
    "colab": {
      "name": "uplift_report.ipynb",
      "version": "0.3.2",
      "provenance": [],
      "collapsed_sections": [],
      "toc_visible": true,
      "include_colab_link": true
    },
    "kernelspec": {
      "name": "python3",
      "display_name": "Python 3"
    }
  },
  "cells": [
    {
      "cell_type": "markdown",
      "metadata": {
        "id": "view-in-github",
        "colab_type": "text"
      },
      "source": [
        "<a href=\"https://colab.research.google.com/github/remerge/uplift-report/blob/low-memory-py-more-of-py/uplift_report.ipynb\" target=\"_parent\"><img src=\"https://colab.research.google.com/assets/colab-badge.svg\" alt=\"Open In Colab\"/></a>"
      ]
    },
    {
      "cell_type": "markdown",
      "metadata": {
        "colab_type": "text",
        "id": "5mOAgeTNy0-o"
      },
      "source": [
        "# remerge uplift report\n",
        "\n",
        "This notebook allows you to validate remerge provided uplift reporting numbers. To do so it downloads and analyses exported campaign and event data from S3. The campaign data contains all users that remerge marked to be part of an uplift test, the A/B group assignment, the timestamp of marking, conversion events (click, app open or similar) and their cost. The event data reflects the app event stream and includes events, their timestamp and revenue (if any). We calculate the incremental revenue and the iROAS in line with the [remerge whitepaper](https://drive.google.com/file/d/1PTJ93Cpjw1BeiVns8dTcs2zDDWmmjpdc/view). \n",
        "\n",
        "**Hint**: This notebook can be run in any Jupyter instance with enough space/memory, as a [Google Colab notebook](#Google-Colab-version) or as a standalone Python script. If you are using a copy of this notebook running on Colab or locally you can find the original template on [GitHub: remerge/uplift-report](https://github.com/remerge/uplift-report/blob/master/uplift_report_per_campaign.ipynb)\n",
        "\n",
        "### Notebook configuration\n",
        "\n",
        "For this notebook to work properly several variables in the [Configuration](#Configuration) section need to be be set: `customer`, `audience`, `\n",
        "revenue_event`, `dates` and the AWS credentials. All of these will be provided by your remerge account manager. "
      ]
    },
    {
      "cell_type": "code",
      "metadata": {
        "id": "0j6nnLGh5SUS",
        "colab_type": "code",
        "colab": {}
      },
      "source": [
        "# Import remerge uplift-report library\n",
        "import os\n",
        "\n",
        "# if we are in jupyter environment - we have cloned the repo already and `lib` is available\n",
        "# on Colab we need to clone the repo and enable the same loading path through a symlink\n",
        "if not os.path.exists('lib'):\n",
        "    !git clone --branch low-memory-py https://github.com/remerge/uplift-report.git\n",
        "    !ln -s uplift-report/lib\n",
        "    \n",
        "    !pip install /lib\n",
        "    \n",
        "    # Since we could have upgraded some dependencies, that require restart of the kernel (specifically `pandas`),\n",
        "    # it is safer to perform this restart now\n",
        "    os.kill(os.getpid(), 9)    "
      ],
      "execution_count": 0,
      "outputs": []
    },
    {
      "cell_type": "markdown",
      "metadata": {
        "colab_type": "text",
        "id": "kyYz6TCny0-q"
      },
      "source": [
        "## Import packages\n",
        "\n",
        "This notebook/script needs our Uplift Report helper library, as long as several other dependencies it brings with it\n"
      ]
    },
    {
      "cell_type": "markdown",
      "metadata": {
        "id": "y9hjp-yR6MsK",
        "colab_type": "text"
      },
      "source": [
        "## Load helpers"
      ]
    },
    {
      "cell_type": "code",
      "metadata": {
        "id": "jucQTKF86PaA",
        "colab_type": "code",
        "colab": {}
      },
      "source": [
        "import os\n",
        "import pandas as pd\n",
        "\n",
        "import lib.helpers as helpers\n",
        "\n",
        "from IPython.display import display  # so we can run this as script as well"
      ],
      "execution_count": 0,
      "outputs": []
    },
    {
      "cell_type": "markdown",
      "metadata": {
        "colab_type": "text",
        "id": "7Novl387nrno"
      },
      "source": [
        "## Version\n",
        "Version of the analysis script corresponding to the methodology version in the whitepaper (Major + Minor version represent the whitepaper version, revision represents changes and fixes of the uplift report script)."
      ]
    },
    {
      "cell_type": "code",
      "metadata": {
        "colab_type": "code",
        "id": "U2vm5Z9UoHe6",
        "colab": {}
      },
      "source": [
        "display(helpers.VERSION)"
      ],
      "execution_count": 0,
      "outputs": []
    },
    {
      "cell_type": "markdown",
      "metadata": {
        "colab_type": "text",
        "id": "8u6Q76fCy0-u"
      },
      "source": [
        "## Configuration\n",
        "\n",
        "Set the customer name, audience and access credentials for the S3 bucket and path. Furthermore the event for which we want to evaluate the uplift needs to be set `revenue_event`."
      ]
    },
    {
      "cell_type": "code",
      "metadata": {
        "colab_type": "code",
        "id": "wFgBi4jvsVTn",
        "colab": {}
      },
      "source": [
        "# configure path and revenue event \n",
        "customer = ''\n",
        "audiences = ['']\n",
        "revenue_event = 'purchase'\n",
        "\n",
        "# date range for the report\n",
        "dates = pd.date_range(start='2019-01-01',end='2019-01-01')\n",
        "\n",
        "# AWS credentials\n",
        "os.environ[\"AWS_ACCESS_KEY_ID\"] = ''\n",
        "os.environ[\"AWS_SECRET_ACCESS_KEY\"] = ''\n",
        "\n",
        "# Configure the reporting output: \n",
        "\n",
        "# named groups that aggregate several campaigns\n",
        "groups = {}\n",
        "\n",
        "# show uplift results per campaign:\n",
        "per_campaign_results = False\n",
        "\n",
        "# base statistical calculations on unique converters instead of conversions\n",
        "use_converters_for_significance = False\n",
        "\n",
        "# enable deduplication heuristic for appsflyer\n",
        "use_deduplication = False"
      ],
      "execution_count": 0,
      "outputs": []
    },
    {
      "cell_type": "markdown",
      "metadata": {
        "colab_type": "text",
        "id": "7XnJeThPiSye"
      },
      "source": [
        "## Data loading helpers\n",
        "Define a few helper functions to load and cache data."
      ]
    },
    {
      "cell_type": "markdown",
      "metadata": {
        "colab_type": "text",
        "id": "eSixTLyiy0_A"
      },
      "source": [
        "## Load CSV data from S3\n",
        "\n",
        "Load mark, spend and event data from S3. \n",
        "\n",
        "### IMPORTANT\n",
        "\n",
        "**The event data is usually quite large (several GB) so this operation might take several minutes or hours to complete, depending on the size and connection.**"
      ]
    },
    {
      "cell_type": "code",
      "metadata": {
        "colab_type": "code",
        "id": "PjWaWZS-y0_B",
        "colab": {}
      },
      "source": [
        "bid_columns = ['ts', 'user_id', 'ab_test_group', 'campaign_id','cost_eur','event_type']\n",
        "bids_df = pd.concat([helpers.read_csv(customer, audience, 'marks_and_spend', date, columns=bid_columns) for audience in audiences for date in dates],\n",
        "                    ignore_index=True, verify_integrity=True)"
      ],
      "execution_count": 0,
      "outputs": []
    },
    {
      "cell_type": "code",
      "metadata": {
        "colab_type": "code",
        "id": "kFg_-_EW5TR1",
        "colab": {}
      },
      "source": [
        "attribution_columns = ['ts', 'user_id', 'partner_event', 'revenue_eur', 'ab_test_group']\n",
        "attributions_df = pd.concat(\n",
        "    [helpers.read_csv(customer, audience, 'attributions', date, attribution_columns, revenue_event, helpers.extract_revenue_events ) for audience in audiences for date in dates],\n",
        "    ignore_index=True, verify_integrity=True)"
      ],
      "execution_count": 0,
      "outputs": []
    },
    {
      "cell_type": "markdown",
      "metadata": {
        "colab_type": "text",
        "id": "Ec_qFUaVy0_I"
      },
      "source": [
        "Print some statistics of the loaded data sets."
      ]
    },
    {
      "cell_type": "code",
      "metadata": {
        "colab_type": "code",
        "id": "N0Ih6SSuy0_J",
        "colab": {}
      },
      "source": [
        "bids_df.info(memory_usage='deep')\n"
      ],
      "execution_count": 0,
      "outputs": []
    },
    {
      "cell_type": "code",
      "metadata": {
        "colab_type": "code",
        "id": "EoU_cW07y0_M",
        "colab": {}
      },
      "source": [
        "attributions_df.info(memory_usage='deep')"
      ],
      "execution_count": 0,
      "outputs": []
    },
    {
      "cell_type": "markdown",
      "metadata": {
        "id": "Dcm2nq4G5SUs",
        "colab_type": "text"
      },
      "source": [
        "### Deduplication for appsflyer\n",
        "AppsFlyer sends some events twice - we want to remove the duplicates before the analysis"
      ]
    },
    {
      "cell_type": "code",
      "metadata": {
        "id": "vQpShRFc5SUt",
        "colab_type": "code",
        "colab": {}
      },
      "source": [
        "if use_deduplication:\n",
        "  attributions_df = drop_duplicates_in_attributions(attributions_df, pd.Timedelta('1 minute'))"
      ],
      "execution_count": 0,
      "outputs": []
    },
    {
      "cell_type": "markdown",
      "metadata": {
        "colab_type": "text",
        "id": "tKdBRvkxL8Aa"
      },
      "source": [
        "### Calculate and display uplift report for the data set as a whole\n",
        "\n",
        "This takes the whole data set and calculates uplift KPIs."
      ]
    },
    {
      "cell_type": "code",
      "metadata": {
        "colab_type": "code",
        "id": "SjX4uu6tTpK2",
        "colab": {}
      },
      "source": [
        "report = helpers.uplift_report(bids_df, attributions_df, groups, per_campaign_results, use_converters_for_significance)"
      ],
      "execution_count": 0,
      "outputs": []
    },
    {
      "cell_type": "markdown",
      "metadata": {
        "colab_type": "text",
        "id": "SdFSmL3u8Pe4"
      },
      "source": [
        "## Uplift Results\n",
        "\n",
        "You can configure the ouput by using variables in the 'Configuration' section"
      ]
    },
    {
      "cell_type": "code",
      "metadata": {
        "colab_type": "code",
        "id": "GWQXKYXB8YO2",
        "colab": {}
      },
      "source": [
        "# set formatting options\n",
        "pd.set_option('display.float_format', '{:.5f}'.format)"
      ],
      "execution_count": 0,
      "outputs": []
    },
    {
      "cell_type": "code",
      "metadata": {
        "colab_type": "code",
        "id": "S2UZOvmlaXqO",
        "colab": {}
      },
      "source": [
        "display(report)"
      ],
      "execution_count": 0,
      "outputs": []
    },
    {
      "cell_type": "markdown",
      "metadata": {
        "colab_type": "text",
        "id": "6VA_k2BobaZS"
      },
      "source": [
        "### CSV Export - combined reports"
      ]
    },
    {
      "cell_type": "code",
      "metadata": {
        "colab_type": "code",
        "id": "K-T6quwwbObO",
        "colab": {}
      },
      "source": [
        "start = dates[0]\n",
        "end = dates[-1]\n",
        "helpers.export_csv(report,'{}_{}-{}.csv'.format(customer, start, end))"
      ],
      "execution_count": 0,
      "outputs": []
    }
  ]
}